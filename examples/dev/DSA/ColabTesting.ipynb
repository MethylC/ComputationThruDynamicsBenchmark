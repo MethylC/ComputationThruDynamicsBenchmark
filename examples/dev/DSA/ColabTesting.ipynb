{
 "cells": [
  {
   "cell_type": "code",
   "execution_count": null,
   "metadata": {},
   "outputs": [],
   "source": [
    "import os\n",
    "import dotenv\n",
    "from interpretability.comparison.analysis.dt.dt import Analysis_DT\n",
    "from interpretability.comparison.analysis.tt.tt import Analysis_TT\n",
    "from interpretability.comparison.comparison import Comparison\n",
    "task_trained_path = \"/home/csverst/Github/InterpretabilityBenchmark/trained_models/task-trained/20240213_NBFF_ColabTesting2\"\n",
    "\n",
    "# %%\n",
    "# Load the analysis\n",
    "tt_GRU = task_trained_path\n",
    "print(tt_GRU)\n",
    "subdirs = [x[0] for x in os.walk(tt_GRU)]\n",
    "print(subdirs)\n",
    "analysis_list = []\n",
    "for subdir in subdirs[1:]:\n",
    "    print(subdir)\n",
    "    analysis_list.append(Analysis_TT(run_name=subdir.split('/')[-1], filepath = subdir + \"/\"))"
   ]
  }
 ],
 "metadata": {
  "language_info": {
   "name": "python"
  }
 },
 "nbformat": 4,
 "nbformat_minor": 2
}
