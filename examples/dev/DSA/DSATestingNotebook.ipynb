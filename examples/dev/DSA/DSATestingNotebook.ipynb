{
 "cells": [
  {
   "cell_type": "code",
   "execution_count": 1,
   "metadata": {},
   "outputs": [
    {
     "name": "stderr",
     "output_type": "stream",
     "text": [
      "/home/csverst/miniconda3/envs/build5/lib/python3.10/site-packages/tqdm/auto.py:21: TqdmWarning: IProgress not found. Please update jupyter and ipywidgets. See https://ipywidgets.readthedocs.io/en/stable/user_install.html\n",
      "  from .autonotebook import tqdm as notebook_tqdm\n",
      "2024-02-02 14:40:54,861\tINFO util.py:154 -- Missing packages: ['ipywidgets']. Run `pip install -U ipywidgets`, then restart the notebook server for rich notebook output.\n",
      "2024-02-02 14:40:55,571\tINFO util.py:154 -- Missing packages: ['ipywidgets']. Run `pip install -U ipywidgets`, then restart the notebook server for rich notebook output.\n"
     ]
    },
    {
     "name": "stdout",
     "output_type": "stream",
     "text": [
      "Comparison for NBFF GRU and NBFF GRU\n",
      "NBFF GRU to NBFF GRU: 0.9999999999998469\n",
      "NBFF GRU to NBFF GRU: 0.9999999999998591\n",
      "Comparison for NBFF GRU and NBFF GRU\n",
      "NBFF GRU to NBFF GRU: 0.005761515196355964\n",
      "NBFF GRU to NBFF GRU: 0.0057615060845062445\n",
      "Comparison for NBFF GRU and NBFF GRU\n",
      "NBFF GRU to NBFF GRU: 0.005958420564071365\n",
      "NBFF GRU to NBFF GRU: 0.005958417643218472\n",
      "Comparison for NBFF GRU and NBFF GRU\n",
      "NBFF GRU to NBFF GRU: 0.9146563237794251\n",
      "NBFF GRU to NBFF GRU: 0.9146563256215864\n",
      "Comparison for NBFF GRU and NBFF GRU\n",
      "NBFF GRU to NBFF GRU: 0.005761505175874482\n",
      "NBFF GRU to NBFF GRU: 0.005761515552690592\n",
      "Comparison for NBFF GRU and NBFF GRU\n",
      "NBFF GRU to NBFF GRU: 0.9999999999972804\n",
      "NBFF GRU to NBFF GRU: 0.999999999997354\n",
      "Comparison for NBFF GRU and NBFF GRU\n",
      "NBFF GRU to NBFF GRU: 0.7563185545308434\n",
      "NBFF GRU to NBFF GRU: 0.7563185416219578\n",
      "Comparison for NBFF GRU and NBFF GRU\n",
      "NBFF GRU to NBFF GRU: 0.006449947053228248\n",
      "NBFF GRU to NBFF GRU: 0.006449959753646521\n",
      "Comparison for NBFF GRU and NBFF GRU\n",
      "NBFF GRU to NBFF GRU: 0.005958417789663513\n",
      "NBFF GRU to NBFF GRU: 0.005958420720267532\n",
      "Comparison for NBFF GRU and NBFF GRU\n",
      "NBFF GRU to NBFF GRU: 0.7563180516264169\n",
      "NBFF GRU to NBFF GRU: 0.756318052035196\n",
      "Comparison for NBFF GRU and NBFF GRU\n",
      "NBFF GRU to NBFF GRU: 0.9999999999995782\n",
      "NBFF GRU to NBFF GRU: 0.9999999999995683\n",
      "Comparison for NBFF GRU and NBFF GRU\n",
      "NBFF GRU to NBFF GRU: 0.00665467879923957\n",
      "NBFF GRU to NBFF GRU: 0.00665468522016995\n",
      "Comparison for NBFF GRU and NBFF GRU\n",
      "NBFF GRU to NBFF GRU: 0.9146563115350849\n",
      "NBFF GRU to NBFF GRU: 0.9146563101424195\n",
      "Comparison for NBFF GRU and NBFF GRU\n",
      "NBFF GRU to NBFF GRU: 0.006449958906371678\n",
      "NBFF GRU to NBFF GRU: 0.006449946880596413\n",
      "Comparison for NBFF GRU and NBFF GRU\n",
      "NBFF GRU to NBFF GRU: 0.006654682054206125\n",
      "NBFF GRU to NBFF GRU: 0.006654678785515548\n",
      "Comparison for NBFF GRU and NBFF GRU\n",
      "NBFF GRU to NBFF GRU: 0.9999999999997775\n",
      "NBFF GRU to NBFF GRU: 0.9999999999998304\n"
     ]
    },
    {
     "data": {
      "text/plain": [
       "(array([[1.00000000e+00, 1.00000000e+00, 1.00000000e+00],\n",
       "        [3.39984025e-03, 5.28500335e-03, 8.59970198e-03],\n",
       "        [1.20663981e-02, 5.40798469e-03, 4.00878917e-04],\n",
       "        [9.22273916e-01, 9.14997607e-01, 9.06697448e-01],\n",
       "        [1.21147504e-02, 1.47077630e-03, 3.69898884e-03],\n",
       "        [1.00000000e+00, 1.00000000e+00, 1.00000000e+00],\n",
       "        [8.73666811e-01, 7.13481075e-01, 6.81807778e-01],\n",
       "        [1.82487125e-02, 2.95770709e-04, 8.05357979e-04],\n",
       "        [1.23685749e-02, 1.34162113e-03, 4.16505735e-03],\n",
       "        [5.18311156e-01, 8.57678773e-01, 8.92964225e-01],\n",
       "        [1.00000000e+00, 1.00000000e+00, 1.00000000e+00],\n",
       "        [1.85564261e-02, 3.88049477e-04, 1.01956078e-03],\n",
       "        [9.27272894e-01, 9.16931798e-01, 8.99764242e-01],\n",
       "        [3.33103785e-03, 5.89753101e-03, 1.01213079e-02],\n",
       "        [1.38346394e-02, 5.78584727e-03, 3.43559528e-04],\n",
       "        [1.00000000e+00, 1.00000000e+00, 1.00000000e+00]]),\n",
       " array([[1.00000000e+00, 1.00000000e+00, 1.00000000e+00],\n",
       "        [1.21147442e-02, 1.47079087e-03, 3.69898322e-03],\n",
       "        [1.23685526e-02, 1.34164314e-03, 4.16505718e-03],\n",
       "        [9.27272961e-01, 9.16931740e-01, 8.99764277e-01],\n",
       "        [3.39984665e-03, 5.28497410e-03, 8.59972591e-03],\n",
       "        [1.00000000e+00, 1.00000000e+00, 1.00000000e+00],\n",
       "        [5.18312147e-01, 8.57678286e-01, 8.92965191e-01],\n",
       "        [3.33106845e-03, 5.89758715e-03, 1.01212237e-02],\n",
       "        [1.20664155e-02, 5.40796796e-03, 4.00878655e-04],\n",
       "        [8.73665464e-01, 7.13481866e-01, 6.81806827e-01],\n",
       "        [1.00000000e+00, 1.00000000e+00, 1.00000000e+00],\n",
       "        [1.38346590e-02, 5.78583844e-03, 3.43558200e-04],\n",
       "        [9.22273892e-01, 9.14997551e-01, 9.06697487e-01],\n",
       "        [1.82487050e-02, 2.95770114e-04, 8.05365568e-04],\n",
       "        [1.85564280e-02, 3.88050539e-04, 1.01955779e-03],\n",
       "        [1.00000000e+00, 1.00000000e+00, 1.00000000e+00]]))"
      ]
     },
     "execution_count": 1,
     "metadata": {},
     "output_type": "execute_result"
    },
    {
     "data": {
      "image/png": "[encoded data removed]",
      "text/plain": [
       "<Figure size 640x480 with 1 Axes>"
      ]
     },
     "metadata": {},
     "output_type": "display_data"
    }
   ],
   "source": [
    "\n",
    "import os\n",
    "\n",
    "import dotenv\n",
    "\n",
    "from interpretability.comparison.analysis.dt.dt import Analysis_DT\n",
    "from interpretability.comparison.analysis.tt.tt import Analysis_TT\n",
    "from interpretability.comparison.comparison import Comparison\n",
    "\n",
    "dotenv.load_dotenv(override=True)\n",
    "TRAINED_MODEL_PATH = os.environ.get(\"TRAINED_MODEL_PATH\")\n",
    "# %%\n",
    "# Load the analysis\n",
    "# CHANGE THESE PATHS TO MATCH YOUR RUNS\n",
    "tt_GRU = TRAINED_MODEL_PATH + (\"task-trained/20240202_DSA_GRU_Comparison/\")\n",
    "\n",
    "# List subdirectories in the path\n",
    "subdirs = [x[0] for x in os.walk(tt_GRU)]\n",
    "analysis_list = []\n",
    "for subdir in subdirs[1:]:\n",
    "    analysis_list.append(Analysis_TT(run_name=\"NBFF GRU\", filepath = subdir + \"/\"))\n",
    "\n",
    "\n",
    "# %%\n",
    "comp = Comparison()\n",
    "for analysis in analysis_list:\n",
    "    comp.load_analysis(analysis)\n",
    "\n",
    "comp.compare_latents()\n",
    "\n",
    "# comp.compare_dynamics_DSA()\n"
   ]
  }
 ],
 "metadata": {
  "kernelspec": {
   "display_name": "build5",
   "language": "python",
   "name": "python3"
  },
  "language_info": {
   "codemirror_mode": {
    "name": "ipython",
    "version": 3
   },
   "file_extension": ".py",
   "mimetype": "text/x-python",
   "name": "python",
   "nbconvert_exporter": "python",
   "pygments_lexer": "ipython3",
   "version": "3.10.13"
  }
 },
 "nbformat": 4,
 "nbformat_minor": 2
}
