{
 "cells": [
  {
   "cell_type": "code",
   "execution_count": null,
   "metadata": {},
   "outputs": [],
   "source": [
    "import matplotlib.pyplot as plt\n",
    "\n",
    "import numpy as np\n",
    "import torch\n",
    "from interpretability.comparison.fixedpoints import find_fixed_points\n",
    "import os\n",
    "from interpretability.comparison.analysis.tt.tt import Analysis_TT\n",
    "# Import pca\n",
    "from sklearn.decomposition import PCA\n",
    "import glob\n",
    "import cv2\n",
    "import shutil\n",
    "import imageio\n",
    "import matplotlib.colors as mcolors"
   ]
  },
  {
   "cell_type": "code",
   "execution_count": null,
   "metadata": {},
   "outputs": [],
   "source": [
    "suffix = \"NBFF_GRU\"\n",
    "filepath1 = (\n",
    "\"/home/csverst/Github/InterpretabilityBenchmark/\"\n",
    "\"trained_models/task-trained/20240129_NBFF_GRU/\"\n",
    ")\n",
    "plot_path = (\n",
    "    \"/home/csverst/Github/InterpretabilityBenchmark/\"\n",
    "    f\"interpretability/comparison/plots/{suffix}/\"\n",
    ")\n",
    "os.makedirs(plot_path, exist_ok=True)\n",
    "\n",
    "comp = Analysis_TT(run_name=suffix, filepath=filepath1)\n"
   ]
  },
  {
   "cell_type": "code",
   "execution_count": null,
   "metadata": {},
   "outputs": [],
   "source": [
    "comp.plot_fps()"
   ]
  }
 ],
 "metadata": {
  "kernelspec": {
   "display_name": "build5",
   "language": "python",
   "name": "python3"
  },
  "language_info": {
   "codemirror_mode": {
    "name": "ipython",
    "version": 3
   },
   "file_extension": ".py",
   "mimetype": "text/x-python",
   "name": "python",
   "nbconvert_exporter": "python",
   "pygments_lexer": "ipython3",
   "version": "3.10.13"
  }
 },
 "nbformat": 4,
 "nbformat_minor": 2
}
