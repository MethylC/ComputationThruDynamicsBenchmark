{
 "cells": [
  {
   "cell_type": "code",
   "execution_count": 1,
   "metadata": {},
   "outputs": [
    {
     "data": {
      "text/plain": [
       "True"
      ]
     },
     "execution_count": 1,
     "metadata": {},
     "output_type": "execute_result"
    }
   ],
   "source": [
    "import matplotlib.pyplot as plt\n",
    "\n",
    "import numpy as np\n",
    "import os\n",
    "from ctd.comparison.analysis.tt.tt import Analysis_TT \n",
    "from ctd.comparison.analysis.dt.dt import Analysis_DT\n",
    "# Import pca\n",
    "import dotenv\n",
    "from ctd.comparison.comparison import Comparison\n",
    "\n",
    "dotenv.load_dotenv(dotenv.find_dotenv())"
   ]
  },
  {
   "cell_type": "code",
   "execution_count": 2,
   "metadata": {},
   "outputs": [
    {
     "name": "stdout",
     "output_type": "stream",
     "text": [
      "/home/csverst/Github/CtDBenchmark/\n"
     ]
    }
   ],
   "source": [
    "HOME_DIR = os.environ['HOME_DIR']\n",
    "print(HOME_DIR)\n",
    "\n",
    "pathTT = HOME_DIR + 'content/trained_models/task-trained/20240328_NBFF_GRU_Final/n=3 max_epochs=1500 seed=0/'\n",
    "an_TT = Analysis_TT(run_name = \"TT\", filepath = pathTT)\n",
    "\n",
    "path_NODE_Sweep = pathTT + \"20240410_NBFF_NODE_DT_LatentSweep_new/\"\n",
    "subfolders_NODE = [f.path for f in os.scandir(path_NODE_Sweep) if f.is_dir()]"
   ]
  },
  {
   "cell_type": "code",
   "execution_count": 3,
   "metadata": {},
   "outputs": [
    {
     "name": "stdout",
     "output_type": "stream",
     "text": [
      "16\n"
     ]
    }
   ],
   "source": [
    "print(len(subfolders_NODE))"
   ]
  },
  {
   "cell_type": "code",
   "execution_count": 4,
   "metadata": {},
   "outputs": [
    {
     "name": "stdout",
     "output_type": "stream",
     "text": [
      "10\n",
      "8\n",
      "5\n",
      "3\n",
      "8\n",
      "8\n",
      "8\n",
      "3\n",
      "10\n",
      "10\n",
      "5\n",
      "3\n",
      "3\n",
      "5\n",
      "5\n",
      "10\n",
      "['NODE_10' 'NODE_10' 'NODE_10' 'NODE_10' 'NODE_3' 'NODE_3' 'NODE_3'\n",
      " 'NODE_3' 'NODE_5' 'NODE_5' 'NODE_5' 'NODE_5' 'NODE_8' 'NODE_8' 'NODE_8'\n",
      " 'NODE_8' 'TT']\n"
     ]
    }
   ],
   "source": [
    "comparison = Comparison()\n",
    "comparison.load_analysis(an_TT, reference_analysis=True, group = \"TT\")\n",
    "for subfolder in subfolders_NODE:\n",
    "    latent_size = int(subfolder.split(\" \")[-1].split(\"=\")[-1])\n",
    "    print(latent_size)\n",
    "    subfolder = subfolder + \"/\"\n",
    "    analysis_temp = Analysis_DT(run_name = f\"NODE_{latent_size}\", filepath = subfolder, model_type = \"SAE\")\n",
    "    comparison.load_analysis(analysis_temp, group = f\"NODE_{latent_size}\")\n",
    "\n",
    "comparison.regroup()\n",
    "print(comparison.groups)"
   ]
  },
  {
   "cell_type": "code",
   "execution_count": 5,
   "metadata": {},
   "outputs": [
    {
     "name": "stdout",
     "output_type": "stream",
     "text": [
      "Working on 1 of 17\n",
      "Working on 2 of 17\n",
      "Working on 3 of 17\n",
      "Working on 4 of 17\n",
      "Working on 5 of 17\n",
      "Working on 6 of 17\n",
      "Working on 7 of 17\n",
      "Working on 8 of 17\n",
      "Working on 9 of 17\n",
      "Working on 10 of 17\n",
      "Working on 11 of 17\n",
      "Working on 12 of 17\n",
      "Working on 13 of 17\n",
      "Working on 14 of 17\n",
      "Working on 15 of 17\n",
      "Working on 16 of 17\n",
      "Working on 17 of 17\n"
     ]
    },
    {
     "data": {
      "image/png": "[encoded data removed]",
      "text/plain": [
       "<Figure size 640x480 with 1 Axes>"
      ]
     },
     "metadata": {},
     "output_type": "display_data"
    }
   ],
   "source": [
    "comparison.compare_state_rate_r2(num_pcs=6)"
   ]
  },
  {
   "cell_type": "code",
   "execution_count": 6,
   "metadata": {},
   "outputs": [
    {
     "name": "stdout",
     "output_type": "stream",
     "text": [
      "Computing Hankel matrix ...\n",
      "Hankel matrix computed!\n",
      "Computing SVD on Hankel matrix ...\n",
      "SVD complete!\n",
      "Computing least squares fits to HAVOK DMD ...\n",
      "Least squares complete! \n",
      "\n",
      "Computing Hankel matrix ...\n",
      "Hankel matrix computed!\n",
      "Computing SVD on Hankel matrix ...\n",
      "SVD complete!\n",
      "Computing least squares fits to HAVOK DMD ...\n",
      "Least squares complete! \n",
      "\n",
      "Computing Hankel matrix ...\n",
      "Hankel matrix computed!\n",
      "Computing SVD on Hankel matrix ...\n",
      "SVD complete!\n",
      "Computing least squares fits to HAVOK DMD ...\n",
      "Least squares complete! \n",
      "\n",
      "Computing Hankel matrix ...\n",
      "Hankel matrix computed!\n",
      "Computing SVD on Hankel matrix ...\n",
      "SVD complete!\n",
      "Computing least squares fits to HAVOK DMD ...\n",
      "Least squares complete! \n",
      "\n",
      "Computing Hankel matrix ...\n",
      "Hankel matrix computed!\n",
      "Computing SVD on Hankel matrix ...\n",
      "SVD complete!\n",
      "Computing least squares fits to HAVOK DMD ...\n",
      "Least squares complete! \n",
      "\n",
      "Computing Hankel matrix ...\n",
      "Hankel matrix computed!\n",
      "Computing SVD on Hankel matrix ...\n",
      "SVD complete!\n",
      "Computing least squares fits to HAVOK DMD ...\n",
      "Least squares complete! \n",
      "\n",
      "Computing Hankel matrix ...\n",
      "Hankel matrix computed!\n",
      "Computing SVD on Hankel matrix ...\n",
      "SVD complete!\n",
      "Computing least squares fits to HAVOK DMD ...\n",
      "Least squares complete! \n",
      "\n",
      "Computing Hankel matrix ...\n",
      "Hankel matrix computed!\n",
      "Computing SVD on Hankel matrix ...\n",
      "SVD complete!\n",
      "Computing least squares fits to HAVOK DMD ...\n",
      "Least squares complete! \n",
      "\n",
      "Computing Hankel matrix ...\n",
      "Hankel matrix computed!\n",
      "Computing SVD on Hankel matrix ...\n",
      "SVD complete!\n",
      "Computing least squares fits to HAVOK DMD ...\n",
      "Least squares complete! \n",
      "\n",
      "Computing Hankel matrix ...\n",
      "Hankel matrix computed!\n",
      "Computing SVD on Hankel matrix ...\n",
      "SVD complete!\n",
      "Computing least squares fits to HAVOK DMD ...\n",
      "Least squares complete! \n",
      "\n",
      "Computing Hankel matrix ...\n",
      "Hankel matrix computed!\n",
      "Computing SVD on Hankel matrix ...\n",
      "SVD complete!\n",
      "Computing least squares fits to HAVOK DMD ...\n",
      "Least squares complete! \n",
      "\n",
      "Computing Hankel matrix ...\n",
      "Hankel matrix computed!\n",
      "Computing SVD on Hankel matrix ...\n",
      "SVD complete!\n",
      "Computing least squares fits to HAVOK DMD ...\n",
      "Least squares complete! \n",
      "\n",
      "Computing Hankel matrix ...\n",
      "Hankel matrix computed!\n",
      "Computing SVD on Hankel matrix ...\n",
      "SVD complete!\n",
      "Computing least squares fits to HAVOK DMD ...\n",
      "Least squares complete! \n",
      "\n",
      "Computing Hankel matrix ...\n",
      "Hankel matrix computed!\n",
      "Computing SVD on Hankel matrix ...\n",
      "SVD complete!\n",
      "Computing least squares fits to HAVOK DMD ...\n",
      "Least squares complete! \n",
      "\n",
      "Computing Hankel matrix ...\n",
      "Hankel matrix computed!\n",
      "Computing SVD on Hankel matrix ...\n",
      "SVD complete!\n",
      "Computing least squares fits to HAVOK DMD ...\n",
      "Least squares complete! \n",
      "\n",
      "Computing Hankel matrix ...\n",
      "Hankel matrix computed!\n",
      "Computing SVD on Hankel matrix ...\n",
      "SVD complete!\n",
      "Computing least squares fits to HAVOK DMD ...\n",
      "Least squares complete! \n",
      "\n",
      "Computing Hankel matrix ...\n",
      "Hankel matrix computed!\n",
      "Computing SVD on Hankel matrix ...\n",
      "SVD complete!\n",
      "Computing least squares fits to HAVOK DMD ...\n",
      "Least squares complete! \n",
      "\n",
      "computing similarity between DMDs 1 and 0\n",
      "Finished optimizing C\n",
      "Finished optimizing C\n",
      "computing similarity between DMDs 2 and 0\n",
      "Finished optimizing C\n",
      "Finished optimizing C\n",
      "computing similarity between DMDs 2 and 1\n",
      "Finished optimizing C\n",
      "Finished optimizing C\n",
      "computing similarity between DMDs 3 and 0\n",
      "Finished optimizing C\n",
      "Finished optimizing C\n",
      "computing similarity between DMDs 3 and 1\n",
      "Finished optimizing C\n",
      "Finished optimizing C\n",
      "computing similarity between DMDs 3 and 2\n",
      "Finished optimizing C\n",
      "Finished optimizing C\n",
      "computing similarity between DMDs 4 and 0\n",
      "Finished optimizing C\n",
      "Finished optimizing C\n",
      "computing similarity between DMDs 4 and 1\n",
      "Finished optimizing C\n",
      "Finished optimizing C\n",
      "computing similarity between DMDs 4 and 2\n",
      "Finished optimizing C\n",
      "Finished optimizing C\n",
      "computing similarity between DMDs 4 and 3\n",
      "Finished optimizing C\n",
      "Finished optimizing C\n",
      "computing similarity between DMDs 5 and 0\n",
      "Finished optimizing C\n",
      "Finished optimizing C\n",
      "computing similarity between DMDs 5 and 1\n",
      "Finished optimizing C\n",
      "Finished optimizing C\n",
      "computing similarity between DMDs 5 and 2\n",
      "Finished optimizing C\n",
      "Finished optimizing C\n",
      "computing similarity between DMDs 5 and 3\n",
      "Finished optimizing C\n",
      "Finished optimizing C\n",
      "computing similarity between DMDs 5 and 4\n"
     ]
    },
    {
     "ename": "KeyboardInterrupt",
     "evalue": "",
     "output_type": "error",
     "traceback": [
      "\u001b[0;31m---------------------------------------------------------------------------\u001b[0m",
      "\u001b[0;31mKeyboardInterrupt\u001b[0m                         Traceback (most recent call last)",
      "Cell \u001b[0;32mIn[6], line 1\u001b[0m\n\u001b[0;32m----> 1\u001b[0m sims \u001b[38;5;241m=\u001b[39m \u001b[43mcomparison\u001b[49m\u001b[38;5;241;43m.\u001b[39;49m\u001b[43mcompare_dynamics_DSA\u001b[49m\u001b[43m(\u001b[49m\u001b[43m)\u001b[49m\n",
      "File \u001b[0;32m~/Github/CtDBenchmark/ctd/comparison/comparison.py:266\u001b[0m, in \u001b[0;36mComparison.compare_dynamics_DSA\u001b[0;34m(self, n_delays, rank, delay_interval, device, percent_data)\u001b[0m\n\u001b[1;32m    254\u001b[0m     latent_list\u001b[38;5;241m.\u001b[39mappend(latents[: \u001b[38;5;28mint\u001b[39m(percent_data \u001b[38;5;241m*\u001b[39m latents\u001b[38;5;241m.\u001b[39mshape[\u001b[38;5;241m0\u001b[39m]), :, :])\n\u001b[1;32m    256\u001b[0m dsa \u001b[38;5;241m=\u001b[39m DSA(\n\u001b[1;32m    257\u001b[0m     latent_list,\n\u001b[1;32m    258\u001b[0m     n_delays\u001b[38;5;241m=\u001b[39mn_delays,\n\u001b[0;32m   (...)\u001b[0m\n\u001b[1;32m    264\u001b[0m     lr\u001b[38;5;241m=\u001b[39m\u001b[38;5;241m0.005\u001b[39m,\n\u001b[1;32m    265\u001b[0m )\n\u001b[0;32m--> 266\u001b[0m similarities \u001b[38;5;241m=\u001b[39m \u001b[43mdsa\u001b[49m\u001b[38;5;241;43m.\u001b[39;49m\u001b[43mfit_score\u001b[49m\u001b[43m(\u001b[49m\u001b[43m)\u001b[49m\n\u001b[1;32m    267\u001b[0m cmap_r \u001b[38;5;241m=\u001b[39m plt\u001b[38;5;241m.\u001b[39mcm\u001b[38;5;241m.\u001b[39mget_cmap(\u001b[38;5;124m\"\u001b[39m\u001b[38;5;124mviridis_r\u001b[39m\u001b[38;5;124m\"\u001b[39m)\n\u001b[1;32m    268\u001b[0m fit_mat \u001b[38;5;241m=\u001b[39m similarities\n",
      "File \u001b[0;32m~/Github/CtDBenchmark/libs/DSA/DSA/dsa.py:293\u001b[0m, in \u001b[0;36mDSA.fit_score\u001b[0;34m(self)\u001b[0m\n\u001b[1;32m    290\u001b[0m     \u001b[38;5;28;01mfor\u001b[39;00m dmd \u001b[38;5;129;01min\u001b[39;00m dmd_sets:\n\u001b[1;32m    291\u001b[0m         dmd\u001b[38;5;241m.\u001b[39mfit()\n\u001b[0;32m--> 293\u001b[0m \u001b[38;5;28;01mreturn\u001b[39;00m \u001b[38;5;28;43mself\u001b[39;49m\u001b[38;5;241;43m.\u001b[39;49m\u001b[43mscore\u001b[49m\u001b[43m(\u001b[49m\u001b[43m)\u001b[49m\n",
      "File \u001b[0;32m~/Github/CtDBenchmark/libs/DSA/DSA/dsa.py:331\u001b[0m, in \u001b[0;36mDSA.score\u001b[0;34m(self, iters, lr, score_method)\u001b[0m\n\u001b[1;32m    329\u001b[0m         \u001b[38;5;28;01mif\u001b[39;00m \u001b[38;5;28mself\u001b[39m\u001b[38;5;241m.\u001b[39mverbose:\n\u001b[1;32m    330\u001b[0m             \u001b[38;5;28mprint\u001b[39m(\u001b[38;5;124mf\u001b[39m\u001b[38;5;124m'\u001b[39m\u001b[38;5;124mcomputing similarity between DMDs \u001b[39m\u001b[38;5;132;01m{\u001b[39;00mi\u001b[38;5;132;01m}\u001b[39;00m\u001b[38;5;124m and \u001b[39m\u001b[38;5;132;01m{\u001b[39;00mj\u001b[38;5;132;01m}\u001b[39;00m\u001b[38;5;124m'\u001b[39m)\n\u001b[0;32m--> 331\u001b[0m         \u001b[38;5;28mself\u001b[39m\u001b[38;5;241m.\u001b[39msims[i,j] \u001b[38;5;241m=\u001b[39m \u001b[38;5;28mself\u001b[39m\u001b[38;5;241m.\u001b[39msims[j,i] \u001b[38;5;241m=\u001b[39m \u001b[38;5;28;43mself\u001b[39;49m\u001b[38;5;241;43m.\u001b[39;49m\u001b[43msimdist\u001b[49m\u001b[38;5;241;43m.\u001b[39;49m\u001b[43mfit_score\u001b[49m\u001b[43m(\u001b[49m\u001b[43mdmd1\u001b[49m\u001b[38;5;241;43m.\u001b[39;49m\u001b[43mA_v\u001b[49m\u001b[43m,\u001b[49m\u001b[43mdmd2\u001b[49m\u001b[38;5;241;43m.\u001b[39;49m\u001b[43mA_v\u001b[49m\u001b[43m,\u001b[49m\u001b[43miters\u001b[49m\u001b[43m,\u001b[49m\u001b[43mlr\u001b[49m\u001b[43m,\u001b[49m\u001b[43mscore_method\u001b[49m\u001b[43m,\u001b[49m\u001b[43mzero_pad\u001b[49m\u001b[38;5;241;43m=\u001b[39;49m\u001b[38;5;28;43mself\u001b[39;49m\u001b[38;5;241;43m.\u001b[39;49m\u001b[43mzero_pad\u001b[49m\u001b[43m)\u001b[49m\n\u001b[1;32m    334\u001b[0m \u001b[38;5;28;01mif\u001b[39;00m \u001b[38;5;28mself\u001b[39m\u001b[38;5;241m.\u001b[39mmethod \u001b[38;5;241m==\u001b[39m \u001b[38;5;124m'\u001b[39m\u001b[38;5;124mdefault\u001b[39m\u001b[38;5;124m'\u001b[39m:\n\u001b[1;32m    335\u001b[0m     \u001b[38;5;28;01mreturn\u001b[39;00m \u001b[38;5;28mself\u001b[39m\u001b[38;5;241m.\u001b[39msims[\u001b[38;5;241m0\u001b[39m,\u001b[38;5;241m0\u001b[39m]\n",
      "File \u001b[0;32m~/Github/CtDBenchmark/libs/DSA/DSA/simdist.py:378\u001b[0m, in \u001b[0;36mSimilarityTransformDist.fit_score\u001b[0;34m(self, A, B, iters, lr, score_method, zero_pad, group)\u001b[0m\n\u001b[1;32m    373\u001b[0m     score_star \u001b[38;5;241m=\u001b[39m ot\u001b[38;5;241m.\u001b[39memd2(a,b,M) \n\u001b[1;32m    374\u001b[0m     \u001b[38;5;66;03m#wasserstein_distance(A.cpu().numpy(),B.cpu().numpy())\u001b[39;00m\n\u001b[1;32m    375\u001b[0m \n\u001b[1;32m    376\u001b[0m \u001b[38;5;28;01melse\u001b[39;00m:\n\u001b[0;32m--> 378\u001b[0m     \u001b[38;5;28;43mself\u001b[39;49m\u001b[38;5;241;43m.\u001b[39;49m\u001b[43mfit\u001b[49m\u001b[43m(\u001b[49m\u001b[43mA\u001b[49m\u001b[43m,\u001b[49m\u001b[43m \u001b[49m\u001b[43mB\u001b[49m\u001b[43m,\u001b[49m\u001b[43miters\u001b[49m\u001b[43m,\u001b[49m\u001b[43mlr\u001b[49m\u001b[43m,\u001b[49m\u001b[43mgroup\u001b[49m\u001b[43m)\u001b[49m\n\u001b[1;32m    379\u001b[0m     score_star \u001b[38;5;241m=\u001b[39m \u001b[38;5;28mself\u001b[39m\u001b[38;5;241m.\u001b[39mscore(\u001b[38;5;28mself\u001b[39m\u001b[38;5;241m.\u001b[39mA,\u001b[38;5;28mself\u001b[39m\u001b[38;5;241m.\u001b[39mB,score_method\u001b[38;5;241m=\u001b[39mscore_method,group\u001b[38;5;241m=\u001b[39mgroup)\n\u001b[1;32m    381\u001b[0m \u001b[38;5;28;01mreturn\u001b[39;00m score_star\n",
      "File \u001b[0;32m~/Github/CtDBenchmark/libs/DSA/DSA/simdist.py:193\u001b[0m, in \u001b[0;36mSimilarityTransformDist.fit\u001b[0;34m(self, A, B, iters, lr, group)\u001b[0m\n\u001b[1;32m    190\u001b[0m group \u001b[38;5;241m=\u001b[39m \u001b[38;5;28mself\u001b[39m\u001b[38;5;241m.\u001b[39mgroup \u001b[38;5;28;01mif\u001b[39;00m group \u001b[38;5;129;01mis\u001b[39;00m \u001b[38;5;28;01mNone\u001b[39;00m \u001b[38;5;28;01melse\u001b[39;00m group\n\u001b[1;32m    192\u001b[0m \u001b[38;5;28;01mif\u001b[39;00m group \u001b[38;5;129;01min\u001b[39;00m {\u001b[38;5;124m\"\u001b[39m\u001b[38;5;124mSO(n)\u001b[39m\u001b[38;5;124m\"\u001b[39m, \u001b[38;5;124m\"\u001b[39m\u001b[38;5;124mO(n)\u001b[39m\u001b[38;5;124m\"\u001b[39m}:\n\u001b[0;32m--> 193\u001b[0m     \u001b[38;5;28mself\u001b[39m\u001b[38;5;241m.\u001b[39mlosses, \u001b[38;5;28mself\u001b[39m\u001b[38;5;241m.\u001b[39mC_star, \u001b[38;5;28mself\u001b[39m\u001b[38;5;241m.\u001b[39msim_net \u001b[38;5;241m=\u001b[39m \u001b[38;5;28;43mself\u001b[39;49m\u001b[38;5;241;43m.\u001b[39;49m\u001b[43moptimize_C\u001b[49m\u001b[43m(\u001b[49m\u001b[43mA\u001b[49m\u001b[43m,\u001b[49m\n\u001b[1;32m    194\u001b[0m \u001b[43m                                                             \u001b[49m\u001b[43mB\u001b[49m\u001b[43m,\u001b[49m\n\u001b[1;32m    195\u001b[0m \u001b[43m                                                             \u001b[49m\u001b[43mlr\u001b[49m\u001b[43m,\u001b[49m\u001b[43miters\u001b[49m\u001b[43m,\u001b[49m\n\u001b[1;32m    196\u001b[0m \u001b[43m                                                             \u001b[49m\u001b[43morthog\u001b[49m\u001b[38;5;241;43m=\u001b[39;49m\u001b[38;5;28;43;01mTrue\u001b[39;49;00m\u001b[43m,\u001b[49m\n\u001b[1;32m    197\u001b[0m \u001b[43m                                                             \u001b[49m\u001b[43mverbose\u001b[49m\u001b[38;5;241;43m=\u001b[39;49m\u001b[38;5;28;43mself\u001b[39;49m\u001b[38;5;241;43m.\u001b[39;49m\u001b[43mverbose\u001b[49m\u001b[43m)\u001b[49m\n\u001b[1;32m    198\u001b[0m \u001b[38;5;28;01mif\u001b[39;00m group \u001b[38;5;241m==\u001b[39m \u001b[38;5;124m\"\u001b[39m\u001b[38;5;124mO(n)\u001b[39m\u001b[38;5;124m\"\u001b[39m:\n\u001b[1;32m    199\u001b[0m     \u001b[38;5;66;03m#permute the first row and column of B then rerun the optimization\u001b[39;00m\n\u001b[1;32m    200\u001b[0m     P \u001b[38;5;241m=\u001b[39m torch\u001b[38;5;241m.\u001b[39meye(B\u001b[38;5;241m.\u001b[39mshape[\u001b[38;5;241m0\u001b[39m],device\u001b[38;5;241m=\u001b[39m\u001b[38;5;28mself\u001b[39m\u001b[38;5;241m.\u001b[39mdevice)\n",
      "File \u001b[0;32m~/Github/CtDBenchmark/libs/DSA/DSA/simdist.py:242\u001b[0m, in \u001b[0;36mSimilarityTransformDist.optimize_C\u001b[0;34m(self, A, B, lr, iters, orthog, verbose)\u001b[0m\n\u001b[1;32m    239\u001b[0m \u001b[38;5;66;03m# Compute the Frobenius norm between A and the product.\u001b[39;00m\n\u001b[1;32m    240\u001b[0m loss \u001b[38;5;241m=\u001b[39m simdist_loss(A, sim_net(B))\n\u001b[0;32m--> 242\u001b[0m \u001b[43mloss\u001b[49m\u001b[38;5;241;43m.\u001b[39;49m\u001b[43mbackward\u001b[49m\u001b[43m(\u001b[49m\u001b[43m)\u001b[49m\n\u001b[1;32m    244\u001b[0m optimizer\u001b[38;5;241m.\u001b[39mstep()\n\u001b[1;32m    245\u001b[0m \u001b[38;5;66;03m# if _ % 99:\u001b[39;00m\n\u001b[1;32m    246\u001b[0m \u001b[38;5;66;03m#     scheduler.step()\u001b[39;00m\n",
      "File \u001b[0;32m~/miniconda3/envs/build5/lib/python3.10/site-packages/torch/_tensor.py:488\u001b[0m, in \u001b[0;36mTensor.backward\u001b[0;34m(self, gradient, retain_graph, create_graph, inputs)\u001b[0m\n\u001b[1;32m    478\u001b[0m \u001b[38;5;28;01mif\u001b[39;00m has_torch_function_unary(\u001b[38;5;28mself\u001b[39m):\n\u001b[1;32m    479\u001b[0m     \u001b[38;5;28;01mreturn\u001b[39;00m handle_torch_function(\n\u001b[1;32m    480\u001b[0m         Tensor\u001b[38;5;241m.\u001b[39mbackward,\n\u001b[1;32m    481\u001b[0m         (\u001b[38;5;28mself\u001b[39m,),\n\u001b[0;32m   (...)\u001b[0m\n\u001b[1;32m    486\u001b[0m         inputs\u001b[38;5;241m=\u001b[39minputs,\n\u001b[1;32m    487\u001b[0m     )\n\u001b[0;32m--> 488\u001b[0m \u001b[43mtorch\u001b[49m\u001b[38;5;241;43m.\u001b[39;49m\u001b[43mautograd\u001b[49m\u001b[38;5;241;43m.\u001b[39;49m\u001b[43mbackward\u001b[49m\u001b[43m(\u001b[49m\n\u001b[1;32m    489\u001b[0m \u001b[43m    \u001b[49m\u001b[38;5;28;43mself\u001b[39;49m\u001b[43m,\u001b[49m\u001b[43m \u001b[49m\u001b[43mgradient\u001b[49m\u001b[43m,\u001b[49m\u001b[43m \u001b[49m\u001b[43mretain_graph\u001b[49m\u001b[43m,\u001b[49m\u001b[43m \u001b[49m\u001b[43mcreate_graph\u001b[49m\u001b[43m,\u001b[49m\u001b[43m \u001b[49m\u001b[43minputs\u001b[49m\u001b[38;5;241;43m=\u001b[39;49m\u001b[43minputs\u001b[49m\n\u001b[1;32m    490\u001b[0m \u001b[43m\u001b[49m\u001b[43m)\u001b[49m\n",
      "File \u001b[0;32m~/miniconda3/envs/build5/lib/python3.10/site-packages/torch/autograd/__init__.py:197\u001b[0m, in \u001b[0;36mbackward\u001b[0;34m(tensors, grad_tensors, retain_graph, create_graph, grad_variables, inputs)\u001b[0m\n\u001b[1;32m    192\u001b[0m     retain_graph \u001b[38;5;241m=\u001b[39m create_graph\n\u001b[1;32m    194\u001b[0m \u001b[38;5;66;03m# The reason we repeat same the comment below is that\u001b[39;00m\n\u001b[1;32m    195\u001b[0m \u001b[38;5;66;03m# some Python versions print out the first line of a multi-line function\u001b[39;00m\n\u001b[1;32m    196\u001b[0m \u001b[38;5;66;03m# calls in the traceback and some print out the last line\u001b[39;00m\n\u001b[0;32m--> 197\u001b[0m \u001b[43mVariable\u001b[49m\u001b[38;5;241;43m.\u001b[39;49m\u001b[43m_execution_engine\u001b[49m\u001b[38;5;241;43m.\u001b[39;49m\u001b[43mrun_backward\u001b[49m\u001b[43m(\u001b[49m\u001b[43m  \u001b[49m\u001b[38;5;66;43;03m# Calls into the C++ engine to run the backward pass\u001b[39;49;00m\n\u001b[1;32m    198\u001b[0m \u001b[43m    \u001b[49m\u001b[43mtensors\u001b[49m\u001b[43m,\u001b[49m\u001b[43m \u001b[49m\u001b[43mgrad_tensors_\u001b[49m\u001b[43m,\u001b[49m\u001b[43m \u001b[49m\u001b[43mretain_graph\u001b[49m\u001b[43m,\u001b[49m\u001b[43m \u001b[49m\u001b[43mcreate_graph\u001b[49m\u001b[43m,\u001b[49m\u001b[43m \u001b[49m\u001b[43minputs\u001b[49m\u001b[43m,\u001b[49m\n\u001b[1;32m    199\u001b[0m \u001b[43m    \u001b[49m\u001b[43mallow_unreachable\u001b[49m\u001b[38;5;241;43m=\u001b[39;49m\u001b[38;5;28;43;01mTrue\u001b[39;49;00m\u001b[43m,\u001b[49m\u001b[43m \u001b[49m\u001b[43maccumulate_grad\u001b[49m\u001b[38;5;241;43m=\u001b[39;49m\u001b[38;5;28;43;01mTrue\u001b[39;49;00m\u001b[43m)\u001b[49m\n",
      "\u001b[0;31mKeyboardInterrupt\u001b[0m: "
     ]
    }
   ],
   "source": [
    "\n",
    "sims = comparison.compare_dynamics_DSA()\n"
   ]
  },
  {
   "cell_type": "code",
   "execution_count": null,
   "metadata": {},
   "outputs": [],
   "source": [
    "# Take upper triangle of sims\n",
    "sims = np.triu(sims, k=0)\n",
    "sims = sims.flatten()\n",
    "self_sim = sims[0]\n",
    "sims = sims[1:]\n",
    "fig = plt.figure()\n",
    "plt.bar(range(len(sims)), sims)\n",
    "plt.title(\"Dynamical Similarity\")\n",
    "plt.xlabel(\"Model\")\n",
    "plt.ylabel(\"Similarity\")\n",
    "plt.xticks(range(len(sims)), [\"GRU\", \"Vanilla\", \"NODE\"])    "
   ]
  },
  {
   "cell_type": "markdown",
   "metadata": {},
   "source": [
    "comparison.compare_to_reference_affine"
   ]
  },
  {
   "cell_type": "markdown",
   "metadata": {},
   "source": []
  }
 ],
 "metadata": {
  "kernelspec": {
   "display_name": "build5",
   "language": "python",
   "name": "python3"
  },
  "language_info": {
   "codemirror_mode": {
    "name": "ipython",
    "version": 3
   },
   "file_extension": ".py",
   "mimetype": "text/x-python",
   "name": "python",
   "nbconvert_exporter": "python",
   "pygments_lexer": "ipython3",
   "version": "3.10.13"
  }
 },
 "nbformat": 4,
 "nbformat_minor": 2
}
