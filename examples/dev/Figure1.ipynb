{
 "cells": [
  {
   "cell_type": "code",
   "execution_count": 1,
   "metadata": {},
   "outputs": [
    {
     "data": {
      "text/plain": [
       "True"
      ]
     },
     "execution_count": 1,
     "metadata": {},
     "output_type": "execute_result"
    }
   ],
   "source": [
    "import matplotlib.pyplot as plt\n",
    "\n",
    "import numpy as np\n",
    "import os\n",
    "from ctd.comparison.analysis.tt.tt import Analysis_TT \n",
    "from ctd.comparison.analysis.dt.dt import Analysis_DT\n",
    "# Import pca\n",
    "import dotenv\n",
    "from ctd.comparison.comparison import Comparison\n",
    "\n",
    "dotenv.load_dotenv(dotenv.find_dotenv())"
   ]
  },
  {
   "cell_type": "code",
   "execution_count": 2,
   "metadata": {},
   "outputs": [
    {
     "name": "stdout",
     "output_type": "stream",
     "text": [
      "/home/csverst/Github/CtDBenchmark/\n"
     ]
    }
   ],
   "source": [
    "\n",
    "HOME_DIR = os.environ['HOME_DIR']\n",
    "print(HOME_DIR)\n",
    "\n",
    "pathTT = HOME_DIR + 'content/trained_models/task-trained/20240328_NBFF_GRU_Final/n=3 max_epochs=1500 seed=0/'\n",
    "pathGRU = pathTT + '20240328_GRU_RNN_DT_Final/'\n",
    "pathVanilla = pathTT + '20240401_VanillaRNN_DT_Final/'\n",
    "pathNODE = pathTT + '20240401_NODE_DT_Final/'\n",
    "pathLFADS = pathTT + '20240402_NBFF_LFADS_DT_WDecay_Sweep2/gen_model=GRU_RNN prefix=20240328_NBFF_GRU_Final seed=0 max_epochs=1500 weight_decay=1e-05/'\n",
    "\n",
    "an_TT = Analysis_TT(run_name = \"TT\", filepath = pathTT)\n",
    "an_TT.plot_scree(max_pcs= 20)\n",
    "\n",
    "an_GRU = Analysis_DT(run_name = \"GRU\", filepath = pathGRU, model_type = \"SAE\")\n",
    "an_Vanilla = Analysis_DT(run_name = \"Vanilla\", filepath = pathVanilla, model_type = \"SAE\")\n",
    "an_NODE = Analysis_DT(run_name = \"NODE\", filepath = pathNODE, model_type = \"SAE\")\n",
    "an_LFADS = Analysis_DT(run_name = \"LFADS\", filepath = pathLFADS, model_type = \"LFADS\")\n",
    "\n",
    "path_GRU_Sweep = pathTT + \"20240402_NBFF_SAE_GRU_RNN_DT_Seed2/\"\n",
    "subfolders_GRU = [f.path for f in os.scandir(path_GRU_Sweep) if f.is_dir()]\n",
    "\n",
    "path_Vanilla_Sweep = pathTT + \"20240402_NBFF_SAE_VanillaRNN_DT_Seed2/\"\n",
    "subfolders_Vanilla = [f.path for f in os.scandir(path_Vanilla_Sweep) if f.is_dir()]\n",
    "\n",
    "path_NODE_Sweep = pathTT + \"20240403_NBFF_NODE_DT_SeedSweep2/\"\n",
    "subfolders_NODE = [f.path for f in os.scandir(path_NODE_Sweep) if f.is_dir()]\n",
    "\n",
    "path_LFADS_Sweep = pathTT + \"20240403_NBFF_LFADS_DT_SeedSweep2/\"\n",
    "subfolders_LFADS = [f.path for f in os.scandir(path_LFADS_Sweep) if f.is_dir()]"
   ]
  },
  {
   "cell_type": "code",
   "execution_count": null,
   "metadata": {},
   "outputs": [],
   "source": [
    "comparison = Comparison(comparison_tag=\"Figure1\")\n",
    "comparison.load_analysis(an_TT, reference_analysis=True, group = \"TT\")\n",
    "comparison.load_analysis(an_GRU, group = \"GRU\")\n",
    "comparison.load_analysis(an_Vanilla, group = \"Vanilla\")\n",
    "# comparison.load_analysis(an_NODE, group = \"NODE\")\n",
    "comparison.load_analysis(an_LFADS, group = \"LFADS\")\n",
    "\n",
    "for subfolder in subfolders_GRU:\n",
    "    subfolder = subfolder + \"/\"\n",
    "    analysis_temp = Analysis_DT(run_name = \"GRU\", filepath = subfolder, model_type = \"SAE\")\n",
    "    comparison.load_analysis(analysis_temp, group = \"GRU\")\n",
    "\n",
    "for subfolder in subfolders_Vanilla:\n",
    "    \n",
    "    subfolder = subfolder + \"/\"\n",
    "    analysis_temp = Analysis_DT(run_name = \"Vanilla\", filepath = subfolder, model_type = \"SAE\")\n",
    "    comparison.load_analysis(analysis_temp, group = \"Vanilla\")\n",
    "\n",
    "for subfolder in subfolders_NODE:\n",
    "    \n",
    "    subfolder = subfolder + \"/\"\n",
    "    analysis_temp = Analysis_DT(run_name = \"NODE\", filepath = subfolder, model_type = \"SAE\")\n",
    "    comparison.load_analysis(analysis_temp, group = \"NODE\")\n",
    "\n",
    "for subfolder in subfolders_LFADS:\n",
    "        \n",
    "        subfolder = subfolder + \"/\"\n",
    "        analysis_temp = Analysis_DT(run_name = \"LFADS\", filepath = subfolder, model_type = \"LFADS\")\n",
    "        comparison.load_analysis(analysis_temp, group = \"LFADS\")\n",
    "\n",
    "comparison.regroup()"
   ]
  },
  {
   "cell_type": "code",
   "execution_count": null,
   "metadata": {},
   "outputs": [
    {
     "name": "stdout",
     "output_type": "stream",
     "text": [
      "Working on 1 of 44\n",
      "Performance R2s for GRU is [0.95579327 0.95231408 0.95122332]\n",
      "Working on 2 of 44\n",
      "Performance R2s for GRU is [0.95260218 0.95187869 0.93798418]\n",
      "Working on 3 of 44\n",
      "Performance R2s for GRU is [0.95585656 0.94933951 0.94177798]\n",
      "Working on 4 of 44\n",
      "Performance R2s for GRU is [0.95496608 0.9492354  0.95191172]\n",
      "Working on 5 of 44\n",
      "Performance R2s for GRU is [0.95956969 0.95538552 0.94534614]\n",
      "Working on 6 of 44\n",
      "Performance R2s for GRU is [0.95814048 0.95304742 0.95430153]\n",
      "Working on 7 of 44\n",
      "Performance R2s for GRU is [0.95624389 0.95530478 0.94983007]\n",
      "Working on 8 of 44\n",
      "Performance R2s for GRU is [0.95609804 0.94883711 0.94431511]\n",
      "Working on 9 of 44\n",
      "Performance R2s for GRU is [0.95473249 0.94713636 0.94490595]\n",
      "Working on 10 of 44\n",
      "Performance R2s for GRU is [0.95479613 0.94829554 0.94619188]\n",
      "Working on 11 of 44\n",
      "Performance R2s for GRU is [0.96078326 0.94578806 0.94118374]\n",
      "Working on 12 of 44\n",
      "Performance R2s for LFADS is [0.90329935 0.92295719 0.90696361]\n",
      "Working on 13 of 44\n",
      "Performance R2s for LFADS is [0.92055473 0.90681822 0.89509858]\n",
      "Working on 14 of 44\n",
      "Performance R2s for LFADS is [0.92734545 0.90960647 0.92986904]\n",
      "Working on 15 of 44\n",
      "Performance R2s for LFADS is [0.92511883 0.92006216 0.90566798]\n",
      "Working on 16 of 44\n",
      "Performance R2s for LFADS is [0.89602328 0.9200628  0.89394671]\n",
      "Working on 17 of 44\n",
      "Performance R2s for LFADS is [0.91207202 0.91185782 0.90055495]\n",
      "Working on 18 of 44\n",
      "Performance R2s for LFADS is [0.92945581 0.90445419 0.90430299]\n",
      "Working on 19 of 44\n",
      "Performance R2s for LFADS is [0.93177259 0.9070977  0.91489564]\n",
      "Working on 20 of 44\n",
      "Performance R2s for LFADS is [0.90017944 0.88928908 0.91164722]\n",
      "Working on 21 of 44\n",
      "Performance R2s for LFADS is [0.90772813 0.93416381 0.92559141]\n",
      "Working on 22 of 44\n",
      "Performance R2s for LFADS is [0.93575787 0.91056764 0.91186189]\n",
      "Working on 23 of 44\n",
      "Performance R2s for NODE is [0.94164212 0.94252949 0.92163644]\n",
      "Working on 24 of 44\n",
      "Performance R2s for NODE is [0.94099838 0.93953973 0.93060196]\n",
      "Working on 25 of 44\n",
      "Performance R2s for NODE is [0.93928547 0.94468768 0.93598519]\n",
      "Working on 26 of 44\n",
      "Performance R2s for NODE is [0.94935006 0.94446928 0.94289065]\n",
      "Working on 27 of 44\n",
      "Performance R2s for NODE is [0.9424354  0.94593893 0.92777869]\n",
      "Working on 28 of 44\n",
      "Performance R2s for NODE is [0.92978475 0.93984612 0.93148696]\n",
      "Working on 29 of 44\n",
      "Performance R2s for NODE is [0.93380314 0.94801311 0.92765476]\n",
      "Working on 30 of 44\n",
      "Performance R2s for NODE is [0.9543815  0.93007882 0.92713062]\n",
      "Working on 31 of 44\n",
      "Performance R2s for NODE is [0.94741419 0.93911835 0.92439311]\n",
      "Working on 32 of 44\n",
      "Performance R2s for NODE is [0.94760793 0.92952937 0.94752244]\n",
      "Working on 33 of 44\n",
      "Performance R2s for TT is [0.9701316  0.97021111 0.96732261]\n",
      "Working on 34 of 44\n",
      "Performance R2s for Vanilla is [0.94934583 0.94325106 0.95334822]\n",
      "Working on 35 of 44\n",
      "Performance R2s for Vanilla is [0.96199303 0.94816224 0.94147475]\n",
      "Working on 36 of 44\n",
      "Performance R2s for Vanilla is [0.96012388 0.94592283 0.93769185]\n",
      "Working on 37 of 44\n",
      "Performance R2s for Vanilla is [0.93305096 0.95644988 0.93756708]\n",
      "Working on 38 of 44\n",
      "Performance R2s for Vanilla is [0.94449668 0.94954714 0.94581471]\n",
      "Working on 39 of 44\n",
      "Performance R2s for Vanilla is [0.94750986 0.92995027 0.94230273]\n",
      "Working on 40 of 44\n",
      "Performance R2s for Vanilla is [0.95980922 0.94916234 0.94416042]\n",
      "Working on 41 of 44\n",
      "Performance R2s for Vanilla is [0.9475054  0.94355735 0.95049236]\n",
      "Working on 42 of 44\n",
      "Performance R2s for Vanilla is [0.95592729 0.95005511 0.9413653 ]\n",
      "Working on 43 of 44\n",
      "Performance R2s for Vanilla is [0.94177609 0.9577486  0.94833109]\n",
      "Working on 44 of 44\n",
      "Performance R2s for Vanilla is [0.96027656 0.95501253 0.94309384]\n"
     ]
    },
    {
     "data": {
      "image/png": "[encoded data removed]",
      "text/plain": [
       "<Figure size 2000x500 with 1 Axes>"
      ]
     },
     "metadata": {},
     "output_type": "display_data"
    }
   ],
   "source": [
    "comparison.compare_performance()\n",
    "#comparison.compare_state_rate_r2()"
   ]
  },
  {
   "cell_type": "code",
   "execution_count": null,
   "metadata": {},
   "outputs": [],
   "source": [
    "# sims = comparison.compare_dynamics_DSA()\n"
   ]
  },
  {
   "cell_type": "code",
   "execution_count": null,
   "metadata": {},
   "outputs": [],
   "source": [
    "# Take upper triangle of sims\n",
    "# sims = np.triu(sims, k=0)\n",
    "# sims = sims.flatten()\n",
    "# self_sim = sims[0]\n",
    "# sims = sims[1:]\n",
    "# fig = plt.figure()\n",
    "# plt.bar(range(len(sims)), sims)\n",
    "# plt.title(\"Dynamical Similarity\")\n",
    "# plt.xlabel(\"Model\")\n",
    "# plt.ylabel(\"Similarity\")\n",
    "# plt.xticks(range(len(sims)), [\"GRU\", \"Vanilla\", \"NODE\"])    "
   ]
  },
  {
   "cell_type": "markdown",
   "metadata": {},
   "source": [
    "comparison.compare_to_reference_affine"
   ]
  },
  {
   "cell_type": "markdown",
   "metadata": {},
   "source": []
  }
 ],
 "metadata": {
  "kernelspec": {
   "display_name": "build5",
   "language": "python",
   "name": "python3"
  },
  "language_info": {
   "codemirror_mode": {
    "name": "ipython",
    "version": 3
   },
   "file_extension": ".py",
   "mimetype": "text/x-python",
   "name": "python",
   "nbconvert_exporter": "python",
   "pygments_lexer": "ipython3",
   "version": "3.10.13"
  }
 },
 "nbformat": 4,
 "nbformat_minor": 2
}
