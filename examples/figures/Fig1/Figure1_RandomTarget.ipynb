{
 "cells": [
  {
   "cell_type": "code",
   "execution_count": 1,
   "metadata": {},
   "outputs": [
    {
     "data": {
      "text/plain": [
       "True"
      ]
     },
     "execution_count": 1,
     "metadata": {},
     "output_type": "execute_result"
    }
   ],
   "source": [
    "import matplotlib.pyplot as plt\n",
    "\n",
    "import numpy as np\n",
    "import os\n",
    "from ctd.comparison.analysis.tt.tt import Analysis_TT \n",
    "from ctd.comparison.analysis.dt.dt import Analysis_DT\n",
    "# Import pca\n",
    "import dotenv\n",
    "from ctd.comparison.comparison import Comparison\n",
    "\n",
    "dotenv.load_dotenv(dotenv.find_dotenv())"
   ]
  },
  {
   "cell_type": "code",
   "execution_count": 7,
   "metadata": {},
   "outputs": [
    {
     "name": "stdout",
     "output_type": "stream",
     "text": [
      "/home/csverst/Github/CtDBenchmark/\n"
     ]
    }
   ],
   "source": [
    "\n",
    "HOME_DIR = os.environ['HOME_DIR']\n",
    "print(HOME_DIR)\n",
    "\n",
    "pathTT = HOME_DIR + 'content/trained_models/task-trained/20240419_RandomTarget_NoisyGRU_Final/max_epochs=1500 latent_size=64 seed=0/'\n",
    "an_TT = Analysis_TT(run_name = \"TT\", filepath = pathTT)\n",
    "\n",
    "\n",
    "path_GRU_Sweep = pathTT + \"20240419_Fig1_RandomTarget_GRU_Sweep/\"\n",
    "subfolders_GRU = [f.path for f in os.scandir(path_GRU_Sweep) if f.is_dir()]\n",
    "\n",
    "path_Vanilla_Sweep = pathTT + \"20240419_Fig1_RandomTarget_Vanilla_Sweep/\"\n",
    "subfolders_Vanilla = [f.path for f in os.scandir(path_Vanilla_Sweep) if f.is_dir()]\n",
    "\n",
    "path_NODE_Sweep = pathTT + \"20240419_Fig1_RandomTarget_NODE_Sweep/\"\n",
    "subfolders_NODE = [f.path for f in os.scandir(path_NODE_Sweep) if f.is_dir()]\n",
    "\n",
    "path_LFADS_Sweep = pathTT + \"20240422_Fig1_RandomTarget_LFADS_Sweep2/\"\n",
    "subfolders_LFADS = [f.path for f in os.scandir(path_LFADS_Sweep) if f.is_dir()]"
   ]
  },
  {
   "cell_type": "code",
   "execution_count": 8,
   "metadata": {},
   "outputs": [],
   "source": [
    "comparison = Comparison(comparison_tag=\"Figure1RTR\")\n",
    "comparison.load_analysis(an_TT, reference_analysis=True, group = \"TT\")\n",
    "# comparison.load_analysis(an_GRU, group = \"GRU\")\n",
    "# comparison.load_analysis(an_Vanilla, group = \"Vanilla\")\n",
    "# comparison.load_analysis(an_NODE, group = \"NODE\")\n",
    "# comparison.load_analysis(an_LFADS, group = \"LFADS\")\n",
    "\n",
    "for subfolder in subfolders_GRU:\n",
    "    subfolder = subfolder + \"/\"\n",
    "    analysis_temp = Analysis_DT(run_name = \"GRU\", filepath = subfolder, model_type = \"SAE\")\n",
    "    comparison.load_analysis(analysis_temp, group = \"GRU\")\n",
    "\n",
    "for subfolder in subfolders_Vanilla:\n",
    "    \n",
    "    subfolder = subfolder + \"/\"\n",
    "    analysis_temp = Analysis_DT(run_name = \"Vanilla\", filepath = subfolder, model_type = \"SAE\")\n",
    "    comparison.load_analysis(analysis_temp, group = \"Vanilla\")\n",
    "\n",
    "for subfolder in subfolders_NODE:\n",
    "    \n",
    "    subfolder = subfolder + \"/\"\n",
    "    analysis_temp = Analysis_DT(run_name = \"NODE\", filepath = subfolder, model_type = \"SAE\")\n",
    "    comparison.load_analysis(analysis_temp, group = \"NODE\")\n",
    "\n",
    "for subfolder in subfolders_LFADS:\n",
    "        \n",
    "        subfolder = subfolder + \"/\"\n",
    "        analysis_temp = Analysis_DT(run_name = \"LFADS\", filepath = subfolder, model_type = \"LFADS\")\n",
    "        comparison.load_analysis(analysis_temp, group = \"LFADS\")\n",
    "\n",
    "comparison.regroup()"
   ]
  },
  {
   "cell_type": "code",
   "execution_count": 12,
   "metadata": {},
   "outputs": [
    {
     "ename": "KeyboardInterrupt",
     "evalue": "",
     "output_type": "error",
     "traceback": [
      "\u001b[0;31m---------------------------------------------------------------------------\u001b[0m",
      "\u001b[0;31mKeyboardInterrupt\u001b[0m                         Traceback (most recent call last)",
      "Cell \u001b[0;32mIn[12], line 3\u001b[0m\n\u001b[1;32m      1\u001b[0m \u001b[38;5;66;03m# comparison.compare_performance()\u001b[39;00m\n\u001b[1;32m      2\u001b[0m \u001b[38;5;66;03m# comparison.compare_CCA(num_components=5)\u001b[39;00m\n\u001b[0;32m----> 3\u001b[0m \u001b[43mcomparison\u001b[49m\u001b[38;5;241;43m.\u001b[39;49m\u001b[43mcompare_state_rate_r2\u001b[49m\u001b[43m(\u001b[49m\u001b[43m)\u001b[49m\n",
      "File \u001b[0;32m~/Github/CtDBenchmark/ctd/comparison/comparison.py:129\u001b[0m, in \u001b[0;36mComparison.compare_state_rate_r2\u001b[0;34m(self, ref_ind, label_runs, label_groups, phase)\u001b[0m\n\u001b[1;32m    127\u001b[0m reference_analysis \u001b[38;5;241m=\u001b[39m \u001b[38;5;28mself\u001b[39m\u001b[38;5;241m.\u001b[39manalyses[ref_ind]\n\u001b[1;32m    128\u001b[0m rate_state_mat \u001b[38;5;241m=\u001b[39m np\u001b[38;5;241m.\u001b[39mzeros((\u001b[38;5;28mself\u001b[39m\u001b[38;5;241m.\u001b[39mnum_analyses, \u001b[38;5;241m2\u001b[39m))\n\u001b[0;32m--> 129\u001b[0m true_lats \u001b[38;5;241m=\u001b[39m \u001b[43mreference_analysis\u001b[49m\u001b[38;5;241;43m.\u001b[39;49m\u001b[43mget_latents\u001b[49m\u001b[43m(\u001b[49m\u001b[43mphase\u001b[49m\u001b[38;5;241;43m=\u001b[39;49m\u001b[43mphase\u001b[49m\u001b[43m)\u001b[49m\n\u001b[1;32m    130\u001b[0m is_multitask \u001b[38;5;241m=\u001b[39m reference_analysis\u001b[38;5;241m.\u001b[39menv \u001b[38;5;241m==\u001b[39m \u001b[38;5;124m\"\u001b[39m\u001b[38;5;124mMultiTask\u001b[39m\u001b[38;5;124m\"\u001b[39m\n\u001b[1;32m    131\u001b[0m \u001b[38;5;28;01mif\u001b[39;00m is_multitask:\n",
      "File \u001b[0;32m~/Github/CtDBenchmark/ctd/comparison/analysis/tt/tt.py:150\u001b[0m, in \u001b[0;36mAnalysis_TT.get_latents\u001b[0;34m(self, phase)\u001b[0m\n\u001b[1;32m    149\u001b[0m \u001b[38;5;28;01mdef\u001b[39;00m \u001b[38;5;21mget_latents\u001b[39m(\u001b[38;5;28mself\u001b[39m, phase\u001b[38;5;241m=\u001b[39m\u001b[38;5;124m\"\u001b[39m\u001b[38;5;124mall\u001b[39m\u001b[38;5;124m\"\u001b[39m):\n\u001b[0;32m--> 150\u001b[0m     out_dict \u001b[38;5;241m=\u001b[39m \u001b[38;5;28;43mself\u001b[39;49m\u001b[38;5;241;43m.\u001b[39;49m\u001b[43mget_model_outputs\u001b[49m\u001b[43m(\u001b[49m\u001b[43mphase\u001b[49m\u001b[38;5;241;43m=\u001b[39;49m\u001b[43mphase\u001b[49m\u001b[43m)\u001b[49m\n\u001b[1;32m    151\u001b[0m     \u001b[38;5;28;01mreturn\u001b[39;00m out_dict[\u001b[38;5;124m\"\u001b[39m\u001b[38;5;124mlatents\u001b[39m\u001b[38;5;124m\"\u001b[39m]\n",
      "File \u001b[0;32m~/Github/CtDBenchmark/ctd/comparison/analysis/tt/tt.py:141\u001b[0m, in \u001b[0;36mAnalysis_TT.get_model_outputs\u001b[0;34m(self, phase)\u001b[0m\n\u001b[1;32m    139\u001b[0m \u001b[38;5;28;01mdef\u001b[39;00m \u001b[38;5;21mget_model_outputs\u001b[39m(\u001b[38;5;28mself\u001b[39m, phase\u001b[38;5;241m=\u001b[39m\u001b[38;5;124m\"\u001b[39m\u001b[38;5;124mall\u001b[39m\u001b[38;5;124m\"\u001b[39m):\n\u001b[1;32m    140\u001b[0m     tt_ics, tt_inputs, tt_targets \u001b[38;5;241m=\u001b[39m \u001b[38;5;28mself\u001b[39m\u001b[38;5;241m.\u001b[39mget_model_inputs(phase\u001b[38;5;241m=\u001b[39mphase)\n\u001b[0;32m--> 141\u001b[0m     out_dict \u001b[38;5;241m=\u001b[39m \u001b[38;5;28;43mself\u001b[39;49m\u001b[38;5;241;43m.\u001b[39;49m\u001b[43mwrapper\u001b[49m\u001b[43m(\u001b[49m\u001b[43mtt_ics\u001b[49m\u001b[43m,\u001b[49m\u001b[43m \u001b[49m\u001b[43mtt_inputs\u001b[49m\u001b[43m,\u001b[49m\u001b[43m \u001b[49m\u001b[43mtt_targets\u001b[49m\u001b[43m)\u001b[49m\n\u001b[1;32m    142\u001b[0m     \u001b[38;5;28;01mreturn\u001b[39;00m out_dict\n",
      "File \u001b[0;32m~/miniconda3/envs/build5/lib/python3.10/site-packages/torch/nn/modules/module.py:1194\u001b[0m, in \u001b[0;36mModule._call_impl\u001b[0;34m(self, *input, **kwargs)\u001b[0m\n\u001b[1;32m   1190\u001b[0m \u001b[38;5;66;03m# If we don't have any hooks, we want to skip the rest of the logic in\u001b[39;00m\n\u001b[1;32m   1191\u001b[0m \u001b[38;5;66;03m# this function, and just call forward.\u001b[39;00m\n\u001b[1;32m   1192\u001b[0m \u001b[38;5;28;01mif\u001b[39;00m \u001b[38;5;129;01mnot\u001b[39;00m (\u001b[38;5;28mself\u001b[39m\u001b[38;5;241m.\u001b[39m_backward_hooks \u001b[38;5;129;01mor\u001b[39;00m \u001b[38;5;28mself\u001b[39m\u001b[38;5;241m.\u001b[39m_forward_hooks \u001b[38;5;129;01mor\u001b[39;00m \u001b[38;5;28mself\u001b[39m\u001b[38;5;241m.\u001b[39m_forward_pre_hooks \u001b[38;5;129;01mor\u001b[39;00m _global_backward_hooks\n\u001b[1;32m   1193\u001b[0m         \u001b[38;5;129;01mor\u001b[39;00m _global_forward_hooks \u001b[38;5;129;01mor\u001b[39;00m _global_forward_pre_hooks):\n\u001b[0;32m-> 1194\u001b[0m     \u001b[38;5;28;01mreturn\u001b[39;00m \u001b[43mforward_call\u001b[49m\u001b[43m(\u001b[49m\u001b[38;5;241;43m*\u001b[39;49m\u001b[38;5;28;43minput\u001b[39;49m\u001b[43m,\u001b[49m\u001b[43m \u001b[49m\u001b[38;5;241;43m*\u001b[39;49m\u001b[38;5;241;43m*\u001b[39;49m\u001b[43mkwargs\u001b[49m\u001b[43m)\u001b[49m\n\u001b[1;32m   1195\u001b[0m \u001b[38;5;66;03m# Do not call functions when jit is used\u001b[39;00m\n\u001b[1;32m   1196\u001b[0m full_backward_hooks, non_full_backward_hooks \u001b[38;5;241m=\u001b[39m [], []\n",
      "File \u001b[0;32m~/Github/CtDBenchmark/ctd/task_modeling/task_wrapper/task_wrapper.py:126\u001b[0m, in \u001b[0;36mTaskTrainedWrapper.forward\u001b[0;34m(self, ics, inputs, inputs_to_env)\u001b[0m\n\u001b[1;32m    123\u001b[0m     model_input \u001b[38;5;241m=\u001b[39m inputs[:, count, :]\n\u001b[1;32m    125\u001b[0m \u001b[38;5;66;03m# Produce an action and a hidden state\u001b[39;00m\n\u001b[0;32m--> 126\u001b[0m action, hidden \u001b[38;5;241m=\u001b[39m \u001b[38;5;28;43mself\u001b[39;49m\u001b[38;5;241;43m.\u001b[39;49m\u001b[43mmodel\u001b[49m\u001b[43m(\u001b[49m\u001b[43mmodel_input\u001b[49m\u001b[43m,\u001b[49m\u001b[43m \u001b[49m\u001b[43mhidden\u001b[49m\u001b[43m)\u001b[49m\n\u001b[1;32m    128\u001b[0m \u001b[38;5;66;03m# Apply action to environment (for coupled)\u001b[39;00m\n\u001b[1;32m    129\u001b[0m \u001b[38;5;28;01mif\u001b[39;00m \u001b[38;5;28mself\u001b[39m\u001b[38;5;241m.\u001b[39mtask_env\u001b[38;5;241m.\u001b[39mcoupled_env:\n\u001b[1;32m    130\u001b[0m     \u001b[38;5;66;03m# Apply external loads (if they exist)\u001b[39;00m\n",
      "File \u001b[0;32m~/miniconda3/envs/build5/lib/python3.10/site-packages/torch/nn/modules/module.py:1194\u001b[0m, in \u001b[0;36mModule._call_impl\u001b[0;34m(self, *input, **kwargs)\u001b[0m\n\u001b[1;32m   1190\u001b[0m \u001b[38;5;66;03m# If we don't have any hooks, we want to skip the rest of the logic in\u001b[39;00m\n\u001b[1;32m   1191\u001b[0m \u001b[38;5;66;03m# this function, and just call forward.\u001b[39;00m\n\u001b[1;32m   1192\u001b[0m \u001b[38;5;28;01mif\u001b[39;00m \u001b[38;5;129;01mnot\u001b[39;00m (\u001b[38;5;28mself\u001b[39m\u001b[38;5;241m.\u001b[39m_backward_hooks \u001b[38;5;129;01mor\u001b[39;00m \u001b[38;5;28mself\u001b[39m\u001b[38;5;241m.\u001b[39m_forward_hooks \u001b[38;5;129;01mor\u001b[39;00m \u001b[38;5;28mself\u001b[39m\u001b[38;5;241m.\u001b[39m_forward_pre_hooks \u001b[38;5;129;01mor\u001b[39;00m _global_backward_hooks\n\u001b[1;32m   1193\u001b[0m         \u001b[38;5;129;01mor\u001b[39;00m _global_forward_hooks \u001b[38;5;129;01mor\u001b[39;00m _global_forward_pre_hooks):\n\u001b[0;32m-> 1194\u001b[0m     \u001b[38;5;28;01mreturn\u001b[39;00m \u001b[43mforward_call\u001b[49m\u001b[43m(\u001b[49m\u001b[38;5;241;43m*\u001b[39;49m\u001b[38;5;28;43minput\u001b[39;49m\u001b[43m,\u001b[49m\u001b[43m \u001b[49m\u001b[38;5;241;43m*\u001b[39;49m\u001b[38;5;241;43m*\u001b[39;49m\u001b[43mkwargs\u001b[49m\u001b[43m)\u001b[49m\n\u001b[1;32m   1195\u001b[0m \u001b[38;5;66;03m# Do not call functions when jit is used\u001b[39;00m\n\u001b[1;32m   1196\u001b[0m full_backward_hooks, non_full_backward_hooks \u001b[38;5;241m=\u001b[39m [], []\n",
      "File \u001b[0;32m~/Github/CtDBenchmark/ctd/task_modeling/model/rnn.py:82\u001b[0m, in \u001b[0;36mNoisyGRU_RNN.forward\u001b[0;34m(self, inputs, hidden)\u001b[0m\n\u001b[1;32m     81\u001b[0m \u001b[38;5;28;01mdef\u001b[39;00m \u001b[38;5;21mforward\u001b[39m(\u001b[38;5;28mself\u001b[39m, inputs, hidden):\n\u001b[0;32m---> 82\u001b[0m     hidden \u001b[38;5;241m=\u001b[39m \u001b[38;5;28;43mself\u001b[39;49m\u001b[38;5;241;43m.\u001b[39;49m\u001b[43mcell\u001b[49m\u001b[43m(\u001b[49m\u001b[43minputs\u001b[49m\u001b[43m,\u001b[49m\u001b[43m \u001b[49m\u001b[43mhidden\u001b[49m\u001b[43m)\u001b[49m\n\u001b[1;32m     83\u001b[0m     noise \u001b[38;5;241m=\u001b[39m torch\u001b[38;5;241m.\u001b[39mrandn_like(hidden) \u001b[38;5;241m*\u001b[39m \u001b[38;5;28mself\u001b[39m\u001b[38;5;241m.\u001b[39mnoise_level\n\u001b[1;32m     84\u001b[0m     output \u001b[38;5;241m=\u001b[39m \u001b[38;5;28mself\u001b[39m\u001b[38;5;241m.\u001b[39mreadout(hidden)\n",
      "File \u001b[0;32m~/miniconda3/envs/build5/lib/python3.10/site-packages/torch/nn/modules/module.py:1194\u001b[0m, in \u001b[0;36mModule._call_impl\u001b[0;34m(self, *input, **kwargs)\u001b[0m\n\u001b[1;32m   1190\u001b[0m \u001b[38;5;66;03m# If we don't have any hooks, we want to skip the rest of the logic in\u001b[39;00m\n\u001b[1;32m   1191\u001b[0m \u001b[38;5;66;03m# this function, and just call forward.\u001b[39;00m\n\u001b[1;32m   1192\u001b[0m \u001b[38;5;28;01mif\u001b[39;00m \u001b[38;5;129;01mnot\u001b[39;00m (\u001b[38;5;28mself\u001b[39m\u001b[38;5;241m.\u001b[39m_backward_hooks \u001b[38;5;129;01mor\u001b[39;00m \u001b[38;5;28mself\u001b[39m\u001b[38;5;241m.\u001b[39m_forward_hooks \u001b[38;5;129;01mor\u001b[39;00m \u001b[38;5;28mself\u001b[39m\u001b[38;5;241m.\u001b[39m_forward_pre_hooks \u001b[38;5;129;01mor\u001b[39;00m _global_backward_hooks\n\u001b[1;32m   1193\u001b[0m         \u001b[38;5;129;01mor\u001b[39;00m _global_forward_hooks \u001b[38;5;129;01mor\u001b[39;00m _global_forward_pre_hooks):\n\u001b[0;32m-> 1194\u001b[0m     \u001b[38;5;28;01mreturn\u001b[39;00m \u001b[43mforward_call\u001b[49m\u001b[43m(\u001b[49m\u001b[38;5;241;43m*\u001b[39;49m\u001b[38;5;28;43minput\u001b[39;49m\u001b[43m,\u001b[49m\u001b[43m \u001b[49m\u001b[38;5;241;43m*\u001b[39;49m\u001b[38;5;241;43m*\u001b[39;49m\u001b[43mkwargs\u001b[49m\u001b[43m)\u001b[49m\n\u001b[1;32m   1195\u001b[0m \u001b[38;5;66;03m# Do not call functions when jit is used\u001b[39;00m\n\u001b[1;32m   1196\u001b[0m full_backward_hooks, non_full_backward_hooks \u001b[38;5;241m=\u001b[39m [], []\n",
      "File \u001b[0;32m~/miniconda3/envs/build5/lib/python3.10/site-packages/torch/nn/modules/rnn.py:1284\u001b[0m, in \u001b[0;36mGRUCell.forward\u001b[0;34m(self, input, hx)\u001b[0m\n\u001b[1;32m   1281\u001b[0m \u001b[38;5;28;01melse\u001b[39;00m:\n\u001b[1;32m   1282\u001b[0m     hx \u001b[38;5;241m=\u001b[39m hx\u001b[38;5;241m.\u001b[39munsqueeze(\u001b[38;5;241m0\u001b[39m) \u001b[38;5;28;01mif\u001b[39;00m \u001b[38;5;129;01mnot\u001b[39;00m is_batched \u001b[38;5;28;01melse\u001b[39;00m hx\n\u001b[0;32m-> 1284\u001b[0m ret \u001b[38;5;241m=\u001b[39m \u001b[43m_VF\u001b[49m\u001b[38;5;241;43m.\u001b[39;49m\u001b[43mgru_cell\u001b[49m\u001b[43m(\u001b[49m\n\u001b[1;32m   1285\u001b[0m \u001b[43m    \u001b[49m\u001b[38;5;28;43minput\u001b[39;49m\u001b[43m,\u001b[49m\u001b[43m \u001b[49m\u001b[43mhx\u001b[49m\u001b[43m,\u001b[49m\n\u001b[1;32m   1286\u001b[0m \u001b[43m    \u001b[49m\u001b[38;5;28;43mself\u001b[39;49m\u001b[38;5;241;43m.\u001b[39;49m\u001b[43mweight_ih\u001b[49m\u001b[43m,\u001b[49m\u001b[43m \u001b[49m\u001b[38;5;28;43mself\u001b[39;49m\u001b[38;5;241;43m.\u001b[39;49m\u001b[43mweight_hh\u001b[49m\u001b[43m,\u001b[49m\n\u001b[1;32m   1287\u001b[0m \u001b[43m    \u001b[49m\u001b[38;5;28;43mself\u001b[39;49m\u001b[38;5;241;43m.\u001b[39;49m\u001b[43mbias_ih\u001b[49m\u001b[43m,\u001b[49m\u001b[43m \u001b[49m\u001b[38;5;28;43mself\u001b[39;49m\u001b[38;5;241;43m.\u001b[39;49m\u001b[43mbias_hh\u001b[49m\u001b[43m,\u001b[49m\n\u001b[1;32m   1288\u001b[0m \u001b[43m\u001b[49m\u001b[43m)\u001b[49m\n\u001b[1;32m   1290\u001b[0m \u001b[38;5;28;01mif\u001b[39;00m \u001b[38;5;129;01mnot\u001b[39;00m is_batched:\n\u001b[1;32m   1291\u001b[0m     ret \u001b[38;5;241m=\u001b[39m ret\u001b[38;5;241m.\u001b[39msqueeze(\u001b[38;5;241m0\u001b[39m)\n",
      "\u001b[0;31mKeyboardInterrupt\u001b[0m: "
     ]
    }
   ],
   "source": [
    "# comparison.compare_performance()\n",
    "# comparison.compare_CCA(num_components=5)\n",
    "comparison.compare_state_rate_r2()"
   ]
  },
  {
   "cell_type": "code",
   "execution_count": null,
   "metadata": {},
   "outputs": [],
   "source": [
    "# sims = comparison.compare_dynamics_DSA()\n"
   ]
  },
  {
   "cell_type": "code",
   "execution_count": null,
   "metadata": {},
   "outputs": [],
   "source": [
    "# Take upper triangle of sims\n",
    "# sims = np.triu(sims, k=0)\n",
    "# sims = sims.flatten()\n",
    "# self_sim = sims[0]\n",
    "# sims = sims[1:]\n",
    "# fig = plt.figure()\n",
    "# plt.bar(range(len(sims)), sims)\n",
    "# plt.title(\"Dynamical Similarity\")\n",
    "# plt.xlabel(\"Model\")\n",
    "# plt.ylabel(\"Similarity\")\n",
    "# plt.xticks(range(len(sims)), [\"GRU\", \"Vanilla\", \"NODE\"])    "
   ]
  },
  {
   "cell_type": "markdown",
   "metadata": {},
   "source": [
    "comparison.compare_to_reference_affine"
   ]
  },
  {
   "cell_type": "markdown",
   "metadata": {},
   "source": []
  }
 ],
 "metadata": {
  "kernelspec": {
   "display_name": "build5",
   "language": "python",
   "name": "python3"
  },
  "language_info": {
   "codemirror_mode": {
    "name": "ipython",
    "version": 3
   },
   "file_extension": ".py",
   "mimetype": "text/x-python",
   "name": "python",
   "nbconvert_exporter": "python",
   "pygments_lexer": "ipython3",
   "version": "3.10.13"
  }
 },
 "nbformat": 4,
 "nbformat_minor": 2
}
