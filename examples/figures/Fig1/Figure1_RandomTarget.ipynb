{
 "cells": [
  {
   "cell_type": "code",
   "execution_count": 1,
   "metadata": {},
   "outputs": [
    {
     "data": {
      "text/plain": [
       "True"
      ]
     },
     "execution_count": 1,
     "metadata": {},
     "output_type": "execute_result"
    }
   ],
   "source": [
    "import matplotlib.pyplot as plt\n",
    "\n",
    "import numpy as np\n",
    "import os\n",
    "from ctd.comparison.analysis.tt.tt import Analysis_TT \n",
    "from ctd.comparison.analysis.dt.dt import Analysis_DT\n",
    "# Import pca\n",
    "import dotenv\n",
    "from ctd.comparison.comparison import Comparison\n",
    "\n",
    "dotenv.load_dotenv(dotenv.find_dotenv())"
   ]
  },
  {
   "cell_type": "code",
   "execution_count": 2,
   "metadata": {},
   "outputs": [
    {
     "name": "stdout",
     "output_type": "stream",
     "text": [
      "/home/csverst/Github/CtDBenchmark/\n"
     ]
    }
   ],
   "source": [
    "\n",
    "HOME_DIR = os.environ['HOME_DIR']\n",
    "print(HOME_DIR)\n",
    "\n",
    "pathTT = HOME_DIR + 'content/trained_models/task-trained/20240419_RandomTarget_NoisyGRU_Final/max_epochs=1500 latent_size=64 seed=0/'\n",
    "an_TT = Analysis_TT(run_name = \"TT\", filepath = pathTT)\n",
    "\n",
    "\n",
    "path_GRU_Sweep = pathTT + \"20240422_Fig1_RandomTarget_GRU_Sweep2/\"\n",
    "subfolders_GRU = [f.path for f in os.scandir(path_GRU_Sweep) if f.is_dir()]\n",
    "\n",
    "path_Vanilla_Sweep = pathTT + \"20240419_Fig1_RandomTarget_Vanilla_Sweep/\"\n",
    "subfolders_Vanilla = [f.path for f in os.scandir(path_Vanilla_Sweep) if f.is_dir()]\n",
    "\n",
    "path_NODE_Sweep = pathTT + \"20240419_Fig1_RandomTarget_NODE_Sweep/\"\n",
    "subfolders_NODE = [f.path for f in os.scandir(path_NODE_Sweep) if f.is_dir()]\n",
    "\n",
    "path_LFADS_Sweep = pathTT + \"20240419_Fig1_RandomTarget_LFADS_Sweep/\"\n",
    "subfolders_LFADS = [f.path for f in os.scandir(path_LFADS_Sweep) if f.is_dir()]"
   ]
  },
  {
   "cell_type": "code",
   "execution_count": 3,
   "metadata": {},
   "outputs": [],
   "source": [
    "comparison = Comparison(comparison_tag=\"Figure1RTR\")\n",
    "comparison.load_analysis(an_TT, reference_analysis=True, group = \"TT\")\n",
    "# comparison.load_analysis(an_GRU, group = \"GRU\")\n",
    "# comparison.load_analysis(an_Vanilla, group = \"Vanilla\")\n",
    "# comparison.load_analysis(an_NODE, group = \"NODE\")\n",
    "# comparison.load_analysis(an_LFADS, group = \"LFADS\")\n",
    "\n",
    "for subfolder in subfolders_GRU:\n",
    "    subfolder = subfolder + \"/\"\n",
    "    analysis_temp = Analysis_DT(run_name = \"GRU\", filepath = subfolder, model_type = \"SAE\")\n",
    "    comparison.load_analysis(analysis_temp, group = \"GRU\")\n",
    "\n",
    "for subfolder in subfolders_Vanilla:\n",
    "    \n",
    "    subfolder = subfolder + \"/\"\n",
    "    analysis_temp = Analysis_DT(run_name = \"Vanilla\", filepath = subfolder, model_type = \"SAE\")\n",
    "    comparison.load_analysis(analysis_temp, group = \"Vanilla\")\n",
    "\n",
    "for subfolder in subfolders_NODE:\n",
    "    \n",
    "    subfolder = subfolder + \"/\"\n",
    "    analysis_temp = Analysis_DT(run_name = \"NODE\", filepath = subfolder, model_type = \"SAE\")\n",
    "    comparison.load_analysis(analysis_temp, group = \"NODE\")\n",
    "\n",
    "for subfolder in subfolders_LFADS:\n",
    "        \n",
    "        subfolder = subfolder + \"/\"\n",
    "        analysis_temp = Analysis_DT(run_name = \"LFADS\", filepath = subfolder, model_type = \"LFADS\")\n",
    "        comparison.load_analysis(analysis_temp, group = \"LFADS\")\n",
    "\n",
    "comparison.regroup()"
   ]
  },
  {
   "cell_type": "code",
   "execution_count": 4,
   "metadata": {},
   "outputs": [
    {
     "name": "stdout",
     "output_type": "stream",
     "text": [
      "Working on 1 of 21\n",
      "Working on 2 of 21\n",
      "Working on 3 of 21\n",
      "Working on 4 of 21\n",
      "Working on 5 of 21\n",
      "Working on 6 of 21\n",
      "Working on 7 of 21\n",
      "Working on 8 of 21\n",
      "Working on 9 of 21\n",
      "Working on 10 of 21\n",
      "Working on 11 of 21\n",
      "Working on 12 of 21\n",
      "Working on 13 of 21\n",
      "Working on 14 of 21\n",
      "Working on 15 of 21\n",
      "Working on 16 of 21\n",
      "Working on 17 of 21\n",
      "Working on 18 of 21\n",
      "Working on 19 of 21\n",
      "Working on 20 of 21\n",
      "Working on 21 of 21\n"
     ]
    },
    {
     "data": {
      "text/plain": [
       "array([[0.81884378, 0.98702367],\n",
       "       [0.83519355, 0.98732131],\n",
       "       [0.8368117 , 0.98708254],\n",
       "       [0.83317724, 0.98698674],\n",
       "       [0.82297366, 0.98707296],\n",
       "       [0.95172356, 0.9899169 ],\n",
       "       [0.95156662, 0.98993632],\n",
       "       [0.94973597, 0.98978061],\n",
       "       [0.95140378, 0.98992552],\n",
       "       [0.94965166, 0.98992506],\n",
       "       [0.92939393, 0.9805875 ],\n",
       "       [0.92953412, 0.98099779],\n",
       "       [0.92888666, 0.98124546],\n",
       "       [0.92873258, 0.98041148],\n",
       "       [0.92985317, 0.98076299],\n",
       "       [0.        , 0.        ],\n",
       "       [0.68152171, 0.98393142],\n",
       "       [0.67619527, 0.98385043],\n",
       "       [0.67005289, 0.98414024],\n",
       "       [0.64638018, 0.98433689],\n",
       "       [0.66951426, 0.98390089]])"
      ]
     },
     "execution_count": 4,
     "metadata": {},
     "output_type": "execute_result"
    },
    {
     "data": {
      "image/png": "[encoded data removed]",
      "text/plain": [
       "<Figure size 640x480 with 1 Axes>"
      ]
     },
     "metadata": {},
     "output_type": "display_data"
    }
   ],
   "source": [
    "# comparison.compare_performance()\n",
    "# comparison.compare_CCA(num_components=5)\n",
    "comparison.compare_state_rate_r2()"
   ]
  },
  {
   "cell_type": "code",
   "execution_count": 5,
   "metadata": {},
   "outputs": [],
   "source": [
    "# sims = comparison.compare_dynamics_DSA()\n"
   ]
  },
  {
   "cell_type": "code",
   "execution_count": 6,
   "metadata": {},
   "outputs": [],
   "source": [
    "# Take upper triangle of sims\n",
    "# sims = np.triu(sims, k=0)\n",
    "# sims = sims.flatten()\n",
    "# self_sim = sims[0]\n",
    "# sims = sims[1:]\n",
    "# fig = plt.figure()\n",
    "# plt.bar(range(len(sims)), sims)\n",
    "# plt.title(\"Dynamical Similarity\")\n",
    "# plt.xlabel(\"Model\")\n",
    "# plt.ylabel(\"Similarity\")\n",
    "# plt.xticks(range(len(sims)), [\"GRU\", \"Vanilla\", \"NODE\"])    "
   ]
  },
  {
   "cell_type": "markdown",
   "metadata": {},
   "source": [
    "comparison.compare_to_reference_affine"
   ]
  },
  {
   "cell_type": "markdown",
   "metadata": {},
   "source": []
  }
 ],
 "metadata": {
  "kernelspec": {
   "display_name": "build5",
   "language": "python",
   "name": "python3"
  },
  "language_info": {
   "codemirror_mode": {
    "name": "ipython",
    "version": 3
   },
   "file_extension": ".py",
   "mimetype": "text/x-python",
   "name": "python",
   "nbconvert_exporter": "python",
   "pygments_lexer": "ipython3",
   "version": "3.10.13"
  }
 },
 "nbformat": 4,
 "nbformat_minor": 2
}
